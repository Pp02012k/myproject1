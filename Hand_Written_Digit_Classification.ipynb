{
  "nbformat": 4,
  "nbformat_minor": 0,
  "metadata": {
    "colab": {
      "provenance": [],
      "authorship_tag": "ABX9TyM0HoWEuY+IIZcAnIWd7/Tp",
      "include_colab_link": true
    },
    "kernelspec": {
      "name": "python3",
      "display_name": "Python 3"
    },
    "language_info": {
      "name": "python"
    }
  },
  "cells": [
    {
      "cell_type": "markdown",
      "metadata": {
        "id": "view-in-github",
        "colab_type": "text"
      },
      "source": [
        "<a href=\"https://colab.research.google.com/github/Pp02012k/myproject1/blob/main/Hand_Written_Digit_Classification.ipynb\" target=\"_parent\"><img src=\"https://colab.research.google.com/assets/colab-badge.svg\" alt=\"Open In Colab\"/></a>"
      ]
    },
    {
      "cell_type": "markdown",
      "source": [
        "**Objective**"
      ],
      "metadata": {
        "id": "l-mu54e8jg9O"
      }
    },
    {
      "cell_type": "markdown",
      "source": [
        "**The objective of a Handwritten Digit Classification project is to create a model that accurately recognizes and classifies handwritten digits (0-9), with applications in areas like OCR and document digitization.**"
      ],
      "metadata": {
        "id": "V1Sy9kyYjs9n"
      }
    },
    {
      "cell_type": "markdown",
      "source": [
        "**Import Library**"
      ],
      "metadata": {
        "id": "VQAOlyY5g9Jc"
      }
    },
    {
      "cell_type": "code",
      "source": [
        "import pandas as pd"
      ],
      "metadata": {
        "id": "yt0pzku2heqE"
      },
      "execution_count": 1,
      "outputs": []
    },
    {
      "cell_type": "code",
      "source": [
        "import numpy as np"
      ],
      "metadata": {
        "id": "8llT4k0ihhyo"
      },
      "execution_count": 2,
      "outputs": []
    },
    {
      "cell_type": "code",
      "source": [
        "import matplotlib.pyplot as plt"
      ],
      "metadata": {
        "id": "ohfHkCKchljA"
      },
      "execution_count": 3,
      "outputs": []
    },
    {
      "cell_type": "markdown",
      "source": [
        "**Import Data**"
      ],
      "metadata": {
        "id": "OwkQADDVhwhu"
      }
    },
    {
      "cell_type": "code",
      "source": [
        "from sklearn.datasets import load_digits"
      ],
      "metadata": {
        "id": "XHYzKkShh5ZX"
      },
      "execution_count": 4,
      "outputs": []
    },
    {
      "cell_type": "code",
      "source": [
        "df=load_digits()"
      ],
      "metadata": {
        "id": "0TxwB9A_lCua"
      },
      "execution_count": 11,
      "outputs": []
    },
    {
      "cell_type": "code",
      "source": [
        "_,axes=plt.subplots(nrows=1,ncols=4,figsize=(10,3))\n",
        "for ax,image,label in zip(axes,df.images,df.target):\n",
        "  ax.set_axis_off()\n",
        "  ax.imshow(image,cmap=plt.cm.gray_r,interpolation=\"nearest\")\n",
        "  ax.set_title(\"Training:%i\"% label)"
      ],
      "metadata": {
        "colab": {
          "base_uri": "https://localhost:8080/",
          "height": 227
        },
        "id": "1t7ZeHgDlHSW",
        "outputId": "190e693b-2e5d-4b42-d970-7b0bd0281794"
      },
      "execution_count": 12,
      "outputs": [
        {
          "output_type": "display_data",
          "data": {
            "text/plain": [
              "<Figure size 1000x300 with 4 Axes>"
            ],
            "image/png": "[encoded data removed]"
          },
          "metadata": {}
        }
      ]
    },
    {
      "cell_type": "markdown",
      "source": [
        "**Data Preprocessing**"
      ],
      "metadata": {
        "id": "DYkCmjBMtP5H"
      }
    },
    {
      "cell_type": "code",
      "source": [
        "df.images.shape"
      ],
      "metadata": {
        "colab": {
          "base_uri": "https://localhost:8080/",
          "height": 0
        },
        "id": "FMoZ-MNklNZT",
        "outputId": "3b826c30-e814-4fa8-9420-9b8de4565608"
      },
      "execution_count": 13,
      "outputs": [
        {
          "output_type": "execute_result",
          "data": {
            "text/plain": [
              "(1797, 8, 8)"
            ]
          },
          "metadata": {},
          "execution_count": 13
        }
      ]
    },
    {
      "cell_type": "code",
      "source": [
        "df.images[0]"
      ],
      "metadata": {
        "colab": {
          "base_uri": "https://localhost:8080/",
          "height": 0
        },
        "id": "G9rQA5t9lb9h",
        "outputId": "567fc840-be83-4a5f-fe03-973ccb225fe2"
      },
      "execution_count": 14,
      "outputs": [
        {
          "output_type": "execute_result",
          "data": {
            "text/plain": [
              "array([[ 0.,  0.,  5., 13.,  9.,  1.,  0.,  0.],\n",
              "       [ 0.,  0., 13., 15., 10., 15.,  5.,  0.],\n",
              "       [ 0.,  3., 15.,  2.,  0., 11.,  8.,  0.],\n",
              "       [ 0.,  4., 12.,  0.,  0.,  8.,  8.,  0.],\n",
              "       [ 0.,  5.,  8.,  0.,  0.,  9.,  8.,  0.],\n",
              "       [ 0.,  4., 11.,  0.,  1., 12.,  7.,  0.],\n",
              "       [ 0.,  2., 14.,  5., 10., 12.,  0.,  0.],\n",
              "       [ 0.,  0.,  6., 13., 10.,  0.,  0.,  0.]])"
            ]
          },
          "metadata": {},
          "execution_count": 14
        }
      ]
    },
    {
      "cell_type": "code",
      "source": [
        "df.images[0].shape"
      ],
      "metadata": {
        "colab": {
          "base_uri": "https://localhost:8080/",
          "height": 0
        },
        "id": "LTtqrRIelhW-",
        "outputId": "a2035ad8-f4b7-4cbc-9448-400a665a9491"
      },
      "execution_count": 15,
      "outputs": [
        {
          "output_type": "execute_result",
          "data": {
            "text/plain": [
              "(8, 8)"
            ]
          },
          "metadata": {},
          "execution_count": 15
        }
      ]
    },
    {
      "cell_type": "code",
      "source": [
        "len(df.images)"
      ],
      "metadata": {
        "colab": {
          "base_uri": "https://localhost:8080/",
          "height": 0
        },
        "id": "fdMCXkpxloPB",
        "outputId": "3e2d239e-aeca-4003-b802-8189fa38b704"
      },
      "execution_count": 16,
      "outputs": [
        {
          "output_type": "execute_result",
          "data": {
            "text/plain": [
              "1797"
            ]
          },
          "metadata": {},
          "execution_count": 16
        }
      ]
    },
    {
      "cell_type": "code",
      "source": [
        "n_samples=len(df.images)\n",
        "data=df.images.reshape((n_samples,-1))"
      ],
      "metadata": {
        "id": "EHKquRN7ls53"
      },
      "execution_count": 18,
      "outputs": []
    },
    {
      "cell_type": "code",
      "source": [
        "data[0]"
      ],
      "metadata": {
        "colab": {
          "base_uri": "https://localhost:8080/",
          "height": 0
        },
        "id": "89F-du_7mAVh",
        "outputId": "bb5c01e5-986d-45ce-b3a5-d7e400f040f5"
      },
      "execution_count": 19,
      "outputs": [
        {
          "output_type": "execute_result",
          "data": {
            "text/plain": [
              "array([ 0.,  0.,  5., 13.,  9.,  1.,  0.,  0.,  0.,  0., 13., 15., 10.,\n",
              "       15.,  5.,  0.,  0.,  3., 15.,  2.,  0., 11.,  8.,  0.,  0.,  4.,\n",
              "       12.,  0.,  0.,  8.,  8.,  0.,  0.,  5.,  8.,  0.,  0.,  9.,  8.,\n",
              "        0.,  0.,  4., 11.,  0.,  1., 12.,  7.,  0.,  0.,  2., 14.,  5.,\n",
              "       10., 12.,  0.,  0.,  0.,  0.,  6., 13., 10.,  0.,  0.,  0.])"
            ]
          },
          "metadata": {},
          "execution_count": 19
        }
      ]
    },
    {
      "cell_type": "code",
      "source": [
        "data[0].shape"
      ],
      "metadata": {
        "colab": {
          "base_uri": "https://localhost:8080/",
          "height": 0
        },
        "id": "kouqbs6HmFIq",
        "outputId": "5b555384-f858-44f6-e70c-084f3151eb7a"
      },
      "execution_count": 20,
      "outputs": [
        {
          "output_type": "execute_result",
          "data": {
            "text/plain": [
              "(64,)"
            ]
          },
          "metadata": {},
          "execution_count": 20
        }
      ]
    },
    {
      "cell_type": "code",
      "source": [
        "data.shape"
      ],
      "metadata": {
        "colab": {
          "base_uri": "https://localhost:8080/",
          "height": 0
        },
        "id": "7NlvPvuwmKAl",
        "outputId": "61e3f70f-d4fc-4b6e-925d-1fc68be32058"
      },
      "execution_count": 21,
      "outputs": [
        {
          "output_type": "execute_result",
          "data": {
            "text/plain": [
              "(1797, 64)"
            ]
          },
          "metadata": {},
          "execution_count": 21
        }
      ]
    },
    {
      "cell_type": "markdown",
      "source": [
        "**Scaling Image Data**"
      ],
      "metadata": {
        "id": "UM_o1nFGpvxH"
      }
    },
    {
      "cell_type": "code",
      "source": [
        "data.min()"
      ],
      "metadata": {
        "colab": {
          "base_uri": "https://localhost:8080/",
          "height": 0
        },
        "id": "GcwOrGxtmPDv",
        "outputId": "cdc97c95-c4fc-4ae5-8908-893825ffa365"
      },
      "execution_count": 22,
      "outputs": [
        {
          "output_type": "execute_result",
          "data": {
            "text/plain": [
              "0.0"
            ]
          },
          "metadata": {},
          "execution_count": 22
        }
      ]
    },
    {
      "cell_type": "code",
      "source": [],
      "metadata": {
        "id": "b9USWfXmrBSg"
      },
      "execution_count": null,
      "outputs": []
    },
    {
      "cell_type": "code",
      "source": [
        "data.max()"
      ],
      "metadata": {
        "colab": {
          "base_uri": "https://localhost:8080/",
          "height": 0
        },
        "id": "2B87XodymU1n",
        "outputId": "c8d44767-8441-4960-d608-4ab8b25b8583"
      },
      "execution_count": 23,
      "outputs": [
        {
          "output_type": "execute_result",
          "data": {
            "text/plain": [
              "16.0"
            ]
          },
          "metadata": {},
          "execution_count": 23
        }
      ]
    },
    {
      "cell_type": "code",
      "source": [
        "data=data/16"
      ],
      "metadata": {
        "id": "JcszVhlymXfm"
      },
      "execution_count": 24,
      "outputs": []
    },
    {
      "cell_type": "code",
      "source": [
        "data.min()"
      ],
      "metadata": {
        "colab": {
          "base_uri": "https://localhost:8080/",
          "height": 0
        },
        "id": "Gj9H1JHvmdWT",
        "outputId": "0e9be13b-735b-4b8d-8de1-d254f1c48b0e"
      },
      "execution_count": 25,
      "outputs": [
        {
          "output_type": "execute_result",
          "data": {
            "text/plain": [
              "0.0"
            ]
          },
          "metadata": {},
          "execution_count": 25
        }
      ]
    },
    {
      "cell_type": "code",
      "source": [
        "data.max()"
      ],
      "metadata": {
        "colab": {
          "base_uri": "https://localhost:8080/",
          "height": 0
        },
        "id": "FOvgSSfRmgK-",
        "outputId": "ca21af99-3b9f-4d6a-9614-ae2d4f63b125"
      },
      "execution_count": 26,
      "outputs": [
        {
          "output_type": "execute_result",
          "data": {
            "text/plain": [
              "1.0"
            ]
          },
          "metadata": {},
          "execution_count": 26
        }
      ]
    },
    {
      "cell_type": "code",
      "source": [
        "data[0]"
      ],
      "metadata": {
        "colab": {
          "base_uri": "https://localhost:8080/",
          "height": 0
        },
        "id": "s3lpPWW9miPd",
        "outputId": "8bda879c-54b5-431d-924c-34a4f02bdbd3"
      },
      "execution_count": 27,
      "outputs": [
        {
          "output_type": "execute_result",
          "data": {
            "text/plain": [
              "array([0.    , 0.    , 0.3125, 0.8125, 0.5625, 0.0625, 0.    , 0.    ,\n",
              "       0.    , 0.    , 0.8125, 0.9375, 0.625 , 0.9375, 0.3125, 0.    ,\n",
              "       0.    , 0.1875, 0.9375, 0.125 , 0.    , 0.6875, 0.5   , 0.    ,\n",
              "       0.    , 0.25  , 0.75  , 0.    , 0.    , 0.5   , 0.5   , 0.    ,\n",
              "       0.    , 0.3125, 0.5   , 0.    , 0.    , 0.5625, 0.5   , 0.    ,\n",
              "       0.    , 0.25  , 0.6875, 0.    , 0.0625, 0.75  , 0.4375, 0.    ,\n",
              "       0.    , 0.125 , 0.875 , 0.3125, 0.625 , 0.75  , 0.    , 0.    ,\n",
              "       0.    , 0.    , 0.375 , 0.8125, 0.625 , 0.    , 0.    , 0.    ])"
            ]
          },
          "metadata": {},
          "execution_count": 27
        }
      ]
    },
    {
      "cell_type": "markdown",
      "source": [
        "**Train Test Split Data**"
      ],
      "metadata": {
        "id": "xMftv9Bxq2hN"
      }
    },
    {
      "cell_type": "code",
      "source": [
        "from sklearn.model_selection import train_test_split"
      ],
      "metadata": {
        "id": "j8JVe13TmrKk"
      },
      "execution_count": 29,
      "outputs": []
    },
    {
      "cell_type": "code",
      "source": [
        "X_train, X_test, y_train, y_test=train_test_split(data,df.target,test_size=0.3)"
      ],
      "metadata": {
        "id": "cwfy1BvomzBG"
      },
      "execution_count": 30,
      "outputs": []
    },
    {
      "cell_type": "code",
      "source": [
        "X_train.shape,X_test.shape,y_train.shape,y_test.shape"
      ],
      "metadata": {
        "colab": {
          "base_uri": "https://localhost:8080/",
          "height": 0
        },
        "id": "H9yWiA5cndWk",
        "outputId": "f40dab7d-a2b8-4e0d-a995-95e8487df07f"
      },
      "execution_count": 31,
      "outputs": [
        {
          "output_type": "execute_result",
          "data": {
            "text/plain": [
              "((1257, 64), (540, 64), (1257,), (540,))"
            ]
          },
          "metadata": {},
          "execution_count": 31
        }
      ]
    },
    {
      "cell_type": "markdown",
      "source": [
        "**Random Forest Model**"
      ],
      "metadata": {
        "id": "bQrrlYSvrIpP"
      }
    },
    {
      "cell_type": "code",
      "source": [
        "from sklearn.ensemble import RandomForestClassifier"
      ],
      "metadata": {
        "id": "pR4eng9ynuRs"
      },
      "execution_count": 32,
      "outputs": []
    },
    {
      "cell_type": "code",
      "source": [
        "rf=RandomForestClassifier()"
      ],
      "metadata": {
        "id": "ReoZQIvWn3Yq"
      },
      "execution_count": 33,
      "outputs": []
    },
    {
      "cell_type": "code",
      "source": [
        "rf.fit(X_train,y_train)"
      ],
      "metadata": {
        "colab": {
          "base_uri": "https://localhost:8080/",
          "height": 75
        },
        "id": "JzeqwWYQn8MR",
        "outputId": "aae4d6d4-1d35-49ea-d31d-d772c45f3627"
      },
      "execution_count": 34,
      "outputs": [
        {
          "output_type": "execute_result",
          "data": {
            "text/plain": [
              "RandomForestClassifier()"
            ],
            "text/html": [
              "<style>#sk-container-id-1 {color: black;background-color: white;}#sk-container-id-1 pre{padding: 0;}#sk-container-id-1 div.sk-toggleable {background-color: white;}#sk-container-id-1 label.sk-toggleable__label {cursor: pointer;display: block;width: 100%;margin-bottom: 0;padding: 0.3em;box-sizing: border-box;text-align: center;}#sk-container-id-1 label.sk-toggleable__label-arrow:before {content: \"▸\";float: left;margin-right: 0.25em;color: #696969;}#sk-container-id-1 label.sk-toggleable__label-arrow:hover:before {color: black;}#sk-container-id-1 div.sk-estimator:hover label.sk-toggleable__label-arrow:before {color: black;}#sk-container-id-1 div.sk-toggleable__content {max-height: 0;max-width: 0;overflow: hidden;text-align: left;background-color: #f0f8ff;}#sk-container-id-1 div.sk-toggleable__content pre {margin: 0.2em;color: black;border-radius: 0.25em;background-color: #f0f8ff;}#sk-container-id-1 input.sk-toggleable__control:checked~div.sk-toggleable__content {max-height: 200px;max-width: 100%;overflow: auto;}#sk-container-id-1 input.sk-toggleable__control:checked~label.sk-toggleable__label-arrow:before {content: \"▾\";}#sk-container-id-1 div.sk-estimator input.sk-toggleable__control:checked~label.sk-toggleable__label {background-color: #d4ebff;}#sk-container-id-1 div.sk-label input.sk-toggleable__control:checked~label.sk-toggleable__label {background-color: #d4ebff;}#sk-container-id-1 input.sk-hidden--visually {border: 0;clip: rect(1px 1px 1px 1px);clip: rect(1px, 1px, 1px, 1px);height: 1px;margin: -1px;overflow: hidden;padding: 0;position: absolute;width: 1px;}#sk-container-id-1 div.sk-estimator {font-family: monospace;background-color: #f0f8ff;border: 1px dotted black;border-radius: 0.25em;box-sizing: border-box;margin-bottom: 0.5em;}#sk-container-id-1 div.sk-estimator:hover {background-color: #d4ebff;}#sk-container-id-1 div.sk-parallel-item::after {content: \"\";width: 100%;border-bottom: 1px solid gray;flex-grow: 1;}#sk-container-id-1 div.sk-label:hover label.sk-toggleable__label {background-color: #d4ebff;}#sk-container-id-1 div.sk-serial::before {content: \"\";position: absolute;border-left: 1px solid gray;box-sizing: border-box;top: 0;bottom: 0;left: 50%;z-index: 0;}#sk-container-id-1 div.sk-serial {display: flex;flex-direction: column;align-items: center;background-color: white;padding-right: 0.2em;padding-left: 0.2em;position: relative;}#sk-container-id-1 div.sk-item {position: relative;z-index: 1;}#sk-container-id-1 div.sk-parallel {display: flex;align-items: stretch;justify-content: center;background-color: white;position: relative;}#sk-container-id-1 div.sk-item::before, #sk-container-id-1 div.sk-parallel-item::before {content: \"\";position: absolute;border-left: 1px solid gray;box-sizing: border-box;top: 0;bottom: 0;left: 50%;z-index: -1;}#sk-container-id-1 div.sk-parallel-item {display: flex;flex-direction: column;z-index: 1;position: relative;background-color: white;}#sk-container-id-1 div.sk-parallel-item:first-child::after {align-self: flex-end;width: 50%;}#sk-container-id-1 div.sk-parallel-item:last-child::after {align-self: flex-start;width: 50%;}#sk-container-id-1 div.sk-parallel-item:only-child::after {width: 0;}#sk-container-id-1 div.sk-dashed-wrapped {border: 1px dashed gray;margin: 0 0.4em 0.5em 0.4em;box-sizing: border-box;padding-bottom: 0.4em;background-color: white;}#sk-container-id-1 div.sk-label label {font-family: monospace;font-weight: bold;display: inline-block;line-height: 1.2em;}#sk-container-id-1 div.sk-label-container {text-align: center;}#sk-container-id-1 div.sk-container {/* jupyter's `normalize.less` sets `[hidden] { display: none; }` but bootstrap.min.css set `[hidden] { display: none !important; }` so we also need the `!important` here to be able to override the default hidden behavior on the sphinx rendered scikit-learn.org. See: https://github.com/scikit-learn/scikit-learn/issues/21755 */display: inline-block !important;position: relative;}#sk-container-id-1 div.sk-text-repr-fallback {display: none;}</style><div id=\"sk-container-id-1\" class=\"sk-top-container\"><div class=\"sk-text-repr-fallback\"><pre>RandomForestClassifier()</pre><b>In a Jupyter environment, please rerun this cell to show the HTML representation or trust the notebook. <br />On GitHub, the HTML representation is unable to render, please try loading this page with nbviewer.org.</b></div><div class=\"sk-container\" hidden><div class=\"sk-item\"><div class=\"sk-estimator sk-toggleable\"><input class=\"sk-toggleable__control sk-hidden--visually\" id=\"sk-estimator-id-1\" type=\"checkbox\" checked><label for=\"sk-estimator-id-1\" class=\"sk-toggleable__label sk-toggleable__label-arrow\">RandomForestClassifier</label><div class=\"sk-toggleable__content\"><pre>RandomForestClassifier()</pre></div></div></div></div></div>"
            ]
          },
          "metadata": {},
          "execution_count": 34
        }
      ]
    },
    {
      "cell_type": "markdown",
      "source": [
        "**Predict Test Data**"
      ],
      "metadata": {
        "id": "cr4aK6BmrRnZ"
      }
    },
    {
      "cell_type": "code",
      "source": [
        "y_pred=rf.predict(X_test)"
      ],
      "metadata": {
        "id": "doyNVrD2oKzl"
      },
      "execution_count": 35,
      "outputs": []
    },
    {
      "cell_type": "code",
      "source": [
        "y_pred"
      ],
      "metadata": {
        "colab": {
          "base_uri": "https://localhost:8080/",
          "height": 0
        },
        "id": "gttr6jc7oToq",
        "outputId": "2e212a89-f188-42f4-9f2a-bcf9fd0414c6"
      },
      "execution_count": 36,
      "outputs": [
        {
          "output_type": "execute_result",
          "data": {
            "text/plain": [
              "array([8, 0, 3, 9, 8, 5, 1, 0, 5, 4, 8, 7, 2, 1, 5, 6, 9, 1, 6, 6, 0, 3,\n",
              "       2, 9, 3, 4, 9, 3, 7, 5, 8, 3, 2, 9, 4, 4, 0, 4, 0, 9, 1, 6, 7, 2,\n",
              "       6, 4, 3, 6, 2, 0, 1, 9, 7, 5, 9, 1, 3, 2, 1, 8, 3, 3, 9, 3, 4, 9,\n",
              "       2, 9, 0, 0, 8, 0, 0, 7, 5, 1, 6, 7, 0, 7, 4, 1, 5, 9, 8, 0, 0, 0,\n",
              "       4, 9, 1, 4, 4, 6, 9, 4, 0, 4, 0, 8, 3, 8, 6, 6, 1, 2, 1, 4, 6, 6,\n",
              "       7, 9, 2, 3, 8, 6, 5, 5, 4, 8, 5, 1, 1, 0, 8, 4, 4, 3, 0, 8, 2, 6,\n",
              "       4, 9, 5, 1, 5, 0, 7, 1, 8, 2, 8, 9, 1, 4, 3, 1, 2, 8, 1, 2, 7, 0,\n",
              "       3, 8, 0, 7, 2, 0, 6, 1, 6, 7, 9, 5, 9, 6, 3, 4, 2, 8, 1, 9, 4, 5,\n",
              "       0, 2, 2, 2, 6, 9, 4, 5, 9, 1, 4, 9, 6, 5, 1, 5, 1, 8, 5, 1, 2, 8,\n",
              "       1, 1, 1, 8, 1, 2, 3, 4, 4, 4, 1, 2, 5, 1, 7, 4, 2, 5, 9, 2, 2, 3,\n",
              "       4, 5, 8, 9, 3, 4, 7, 6, 3, 7, 1, 8, 8, 8, 8, 3, 6, 6, 6, 1, 6, 7,\n",
              "       4, 2, 1, 2, 3, 4, 9, 1, 0, 3, 7, 5, 5, 5, 8, 7, 4, 5, 7, 7, 6, 8,\n",
              "       2, 5, 7, 9, 2, 3, 8, 2, 1, 6, 0, 5, 1, 9, 5, 7, 0, 0, 1, 7, 2, 9,\n",
              "       9, 0, 0, 1, 0, 6, 6, 0, 0, 2, 2, 4, 2, 4, 5, 5, 0, 6, 4, 5, 7, 1,\n",
              "       9, 6, 8, 3, 1, 2, 1, 6, 7, 6, 9, 0, 6, 2, 5, 1, 2, 0, 3, 0, 0, 0,\n",
              "       9, 1, 5, 1, 0, 5, 3, 1, 0, 8, 4, 6, 8, 2, 5, 4, 6, 4, 6, 7, 7, 8,\n",
              "       4, 0, 9, 5, 6, 1, 9, 5, 4, 0, 0, 0, 7, 7, 8, 8, 2, 2, 3, 9, 2, 9,\n",
              "       5, 8, 0, 7, 9, 2, 3, 9, 9, 7, 1, 9, 6, 6, 8, 5, 9, 5, 6, 3, 8, 3,\n",
              "       3, 7, 4, 2, 1, 0, 5, 3, 2, 8, 8, 6, 1, 9, 5, 6, 7, 9, 8, 3, 9, 8,\n",
              "       7, 6, 0, 4, 3, 3, 9, 7, 4, 2, 8, 6, 9, 2, 0, 1, 4, 8, 6, 5, 2, 5,\n",
              "       5, 2, 1, 5, 6, 5, 6, 7, 5, 2, 3, 3, 7, 7, 7, 0, 3, 6, 1, 7, 8, 0,\n",
              "       5, 1, 3, 1, 1, 1, 9, 6, 0, 2, 8, 4, 0, 3, 6, 1, 1, 2, 7, 1, 5, 0,\n",
              "       5, 4, 9, 8, 9, 5, 0, 8, 1, 6, 3, 5, 9, 5, 7, 9, 2, 0, 3, 0, 5, 3,\n",
              "       9, 8, 1, 8, 8, 9, 8, 8, 7, 1, 6, 9, 2, 7, 1, 8, 1, 9, 2, 6, 1, 8,\n",
              "       9, 9, 1, 5, 5, 6, 5, 0, 5, 8, 7, 0])"
            ]
          },
          "metadata": {},
          "execution_count": 36
        }
      ]
    },
    {
      "cell_type": "markdown",
      "source": [
        "**Model Accuracy**"
      ],
      "metadata": {
        "id": "ITeEglmJrgI6"
      }
    },
    {
      "cell_type": "code",
      "source": [
        "from sklearn.metrics import confusion_matrix,classification_report"
      ],
      "metadata": {
        "id": "B5RBIo3QoVqj"
      },
      "execution_count": 37,
      "outputs": []
    },
    {
      "cell_type": "code",
      "source": [
        "confusion_matrix(y_test,y_pred)"
      ],
      "metadata": {
        "colab": {
          "base_uri": "https://localhost:8080/",
          "height": 0
        },
        "id": "Fcv_a7g1okEG",
        "outputId": "7325a417-3d58-401d-ded8-cf25f6b722d3"
      },
      "execution_count": 38,
      "outputs": [
        {
          "output_type": "execute_result",
          "data": {
            "text/plain": [
              "array([[57,  0,  0,  0,  1,  0,  0,  0,  0,  0],\n",
              "       [ 0, 65,  0,  0,  0,  0,  0,  0,  0,  0],\n",
              "       [ 0,  0, 52,  0,  0,  0,  0,  0,  0,  0],\n",
              "       [ 0,  0,  0, 44,  0,  0,  0,  0,  0,  1],\n",
              "       [ 0,  0,  0,  0, 45,  0,  0,  1,  0,  1],\n",
              "       [ 0,  0,  0,  0,  0, 58,  0,  0,  0,  1],\n",
              "       [ 1,  0,  0,  0,  0,  0, 54,  0,  0,  0],\n",
              "       [ 0,  0,  0,  0,  0,  0,  0, 44,  0,  0],\n",
              "       [ 0,  2,  1,  0,  0,  0,  0,  0, 56,  0],\n",
              "       [ 0,  0,  0,  0,  0,  1,  0,  0,  0, 55]])"
            ]
          },
          "metadata": {},
          "execution_count": 38
        }
      ]
    },
    {
      "cell_type": "code",
      "source": [
        "print(classification_report(y_test,y_pred))"
      ],
      "metadata": {
        "colab": {
          "base_uri": "https://localhost:8080/",
          "height": 0
        },
        "id": "vduv7h3YorvO",
        "outputId": "d7362c5e-c46c-4195-d12f-6d083839f589"
      },
      "execution_count": 39,
      "outputs": [
        {
          "output_type": "stream",
          "name": "stdout",
          "text": [
            "              precision    recall  f1-score   support\n",
            "\n",
            "           0       0.98      0.98      0.98        58\n",
            "           1       0.97      1.00      0.98        65\n",
            "           2       0.98      1.00      0.99        52\n",
            "           3       1.00      0.98      0.99        45\n",
            "           4       0.98      0.96      0.97        47\n",
            "           5       0.98      0.98      0.98        59\n",
            "           6       1.00      0.98      0.99        55\n",
            "           7       0.98      1.00      0.99        44\n",
            "           8       1.00      0.95      0.97        59\n",
            "           9       0.95      0.98      0.96        56\n",
            "\n",
            "    accuracy                           0.98       540\n",
            "   macro avg       0.98      0.98      0.98       540\n",
            "weighted avg       0.98      0.98      0.98       540\n",
            "\n"
          ]
        }
      ]
    }
  ]
}